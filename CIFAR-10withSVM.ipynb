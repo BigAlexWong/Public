{
 "cells": [
  {
   "cell_type": "markdown",
   "metadata": {
    "collapsed": true,
    "pycharm": {
     "is_executing": false,
     "name": "#%% md\n"
    }
   },
   "source": [
    "## 0. Import required packages and define helper functions\n",
    "### CIFAR-10 is an image dataset. In order to wrestle with classifying images using SVM, we need external packages as followed:"
   ]
  },
  {
   "cell_type": "code",
   "execution_count": 14,
   "outputs": [],
   "source": [
    "# Basic packages\n",
    "import time\n",
    "import pickle\n",
    "import numpy as np\n",
    "# Sci-kit Learn\n",
    "from sklearn.svm import SVC\n",
    "from sklearn.ensemble import BaggingClassifier\n",
    "from sklearn.metrics import accuracy_score\n",
    "from sklearn.metrics import precision_score\n",
    "from sklearn.metrics import recall_score\n",
    "from sklearn.metrics import confusion_matrix\n",
    "# Sci-kit Image\n",
    "from skimage.feature import hog\n",
    "from skimage.color import rgb2gray\n",
    "from sklearn.decomposition import PCA\n",
    "from sklearn.preprocessing import StandardScaler\n",
    "# Visualization\n",
    "import matplotlib.pyplot as plt\n",
    "import matplotlib as mpl\n",
    "# Helpers\n",
    "def unpickle(file):\n",
    "    with open(file, 'rb')as fo:\n",
    "        output_dict =pickle.load(fo, encoding='bytes')\n",
    "    return output_dict"
   ],
   "metadata": {
    "collapsed": false,
    "pycharm": {
     "name": "#%%\n",
     "is_executing": false
    }
   }
  },
  {
   "cell_type": "markdown",
   "source": [
    "## 1. Pre-processing images for SVM\n",
    "### Compared to CNN, classifying images using SVM requires utilization of a feature descriptor to extract features during pre-processing. Here we use both gray-scale HOG features and flatten color features to keep as much valuable info regarding the images as we can."
   ],
   "metadata": {
    "collapsed": false,
    "pycharm": {
     "name": "#%% md\n",
     "is_executing": false
    }
   }
  },
  {
   "cell_type": "markdown",
   "source": [
    "### Take one image as an example"
   ],
   "metadata": {
    "collapsed": false,
    "pycharm": {
     "name": "#%% md\n"
    }
   }
  },
  {
   "cell_type": "code",
   "execution_count": 2,
   "outputs": [
    {
     "data": {
      "text/plain": "3072"
     },
     "metadata": {},
     "output_type": "execute_result",
     "execution_count": 2
    }
   ],
   "source": [
    "directory_name = \"C:\\\\Users\\\\w00536811\\\\Desktop\\\\WYYassignment\\\\cifar-10-batches-py\\\\\"\n",
    "file_name = directory_name + \"data_batch_1\"\n",
    "\n",
    "raw_demo_image = unpickle(file_name)[b'data'][1]\n",
    "len(raw_demo_image)"
   ],
   "metadata": {
    "collapsed": false,
    "pycharm": {
     "name": "#%%\n",
     "is_executing": false
    }
   }
  },
  {
   "cell_type": "markdown",
   "source": [
    "### Tensor transformation"
   ],
   "metadata": {
    "collapsed": false
   }
  },
  {
   "cell_type": "code",
   "execution_count": 3,
   "outputs": [],
   "source": [
    "# re-format raw data to RGB format as a 32 by 32 by 3 Tensor (H, W, C)\n",
    "rgb_demo_image = np.zeros((32,32,3),dtype=np.uint8)  # use uint8 consistently\n",
    "# To speed up this transformation, use the data order in memory of the raw data for iteration\n",
    "# channel -> row -> column\n",
    "for k in range(3):  # C\n",
    "    for i in range(32):  # H\n",
    "        for j in range(32):  # W\n",
    "            rgb_demo_image[i][j][k] = raw_demo_image[k*1024+i*32+j]"
   ],
   "metadata": {
    "collapsed": false,
    "pycharm": {
     "name": "#%%\n",
     "is_executing": false
    }
   }
  },
  {
   "cell_type": "markdown",
   "source": [
    "### Original image and grey-scaled"
   ],
   "metadata": {
    "collapsed": false
   }
  },
  {
   "cell_type": "code",
   "execution_count": 4,
   "outputs": [
    {
     "name": "stdout",
     "text": [
      "(32, 32, 3)\n"
     ],
     "output_type": "stream"
    },
    {
     "data": {
      "text/plain": "<Figure size 432x288 with 1 Axes>",
      "image/png": "[encoded data removed]"
     },
     "metadata": {
      "needs_background": "light"
     },
     "output_type": "display_data"
    }
   ],
   "source": [
    "print(rgb_demo_image.shape)\n",
    "plt.imshow(rgb_demo_image)\n",
    "plt.show()"
   ],
   "metadata": {
    "collapsed": false,
    "pycharm": {
     "name": "#%%\n",
     "is_executing": false
    }
   }
  },
  {
   "cell_type": "code",
   "execution_count": 5,
   "outputs": [
    {
     "name": "stdout",
     "text": [
      "(32, 32)\n"
     ],
     "output_type": "stream"
    },
    {
     "data": {
      "text/plain": "<Figure size 432x288 with 1 Axes>",
      "image/png": "[encoded data removed]"
     },
     "metadata": {
      "needs_background": "light"
     },
     "output_type": "display_data"
    }
   ],
   "source": [
    "grey_demo_image = rgb2gray(rgb_demo_image)\n",
    "print(grey_demo_image.shape)\n",
    "plt.imshow(grey_demo_image, cmap=mpl.cm.gray)  # color mapping (cmap): gray mapping \n",
    "plt.show()"
   ],
   "metadata": {
    "collapsed": false,
    "pycharm": {
     "name": "#%%\n",
     "is_executing": false
    }
   }
  },
  {
   "cell_type": "markdown",
   "source": [
    "### HOG features: histogram of oriented gradients"
   ],
   "metadata": {
    "collapsed": false,
    "pycharm": {
     "name": "#%% md\n"
    }
   }
  },
  {
   "cell_type": "code",
   "execution_count": 6,
   "outputs": [
    {
     "data": {
      "text/plain": "<Figure size 432x288 with 1 Axes>",
      "image/png": "[encoded data removed]"
     },
     "metadata": {
      "needs_background": "light"
     },
     "output_type": "display_data"
    }
   ],
   "source": [
    "hog_features, hog_image = hog(grey_demo_image, visualize=True, block_norm='L2-Hys', pixels_per_cell=(4, 4))\n",
    "\n",
    "plt.imshow(hog_image, cmap=mpl.cm.gray)\n",
    "plt.show()"
   ],
   "metadata": {
    "collapsed": false,
    "pycharm": {
     "name": "#%%\n",
     "is_executing": false
    }
   }
  },
  {
   "cell_type": "markdown",
   "source": [
    "### Create features for each image: the concatenation of gray HOG and color features"
   ],
   "metadata": {
    "collapsed": false,
    "pycharm": {
     "name": "#%% md\n",
     "is_executing": false
    }
   }
  },
  {
   "cell_type": "code",
   "execution_count": 7,
   "outputs": [
    {
     "name": "stdout",
     "text": [
      "(2916,)\n(3072,)\n(5988,)\n"
     ],
     "output_type": "stream"
    }
   ],
   "source": [
    "color_features = rgb_demo_image.flatten()\n",
    "print(hog_features.shape)\n",
    "print(color_features.shape)\n",
    "demo_features = np.hstack((hog_features, color_features))\n",
    "print(demo_features.shape)"
   ],
   "metadata": {
    "collapsed": false,
    "pycharm": {
     "name": "#%%\n",
     "is_executing": false
    }
   }
  },
  {
   "cell_type": "markdown",
   "source": [
    "### Perform such pre-processing for all images in one batch"
   ],
   "metadata": {
    "collapsed": false,
    "pycharm": {
     "name": "#%% md\n"
    }
   }
  },
  {
   "cell_type": "code",
   "execution_count": 8,
   "outputs": [],
   "source": [
    "feature_matrix = []\n",
    "for image in unpickle(file_name)[b'data']:\n",
    "    rgb_image = np.zeros((32,32,3), dtype=np.uint8)\n",
    "    for k in range(3):  # C\n",
    "        for i in range(32):  # H\n",
    "            for j in range(32):  # W\n",
    "                rgb_image[i][j][k] = image[k*1024+i*32+j]\n",
    "    grey_image = rgb2gray(rgb_image)\n",
    "    hog_features = hog(grey_image, visualize=False, block_norm='L2-Hys', pixels_per_cell=(4, 4))\n",
    "    color_features = rgb_image.flatten()\n",
    "    flatten_features = np.hstack((hog_features, color_features))\n",
    "    feature_matrix.append(flatten_features)"
   ],
   "metadata": {
    "collapsed": false,
    "pycharm": {
     "name": "#%%\n",
     "is_executing": false
    }
   }
  },
  {
   "cell_type": "markdown",
   "source": [
    "### We now have 5988 features for each image. To speed up kernel SVM, we need to reduce the number of features. Here we choose PCA to do so. \n",
    "### We also conduct scaling here."
   ],
   "metadata": {
    "collapsed": false,
    "pycharm": {
     "name": "#%% md\n"
    }
   }
  },
  {
   "cell_type": "code",
   "execution_count": 9,
   "outputs": [
    {
     "name": "stdout",
     "text": [
      "Dimension after reduction: (10000, 500)\n"
     ],
     "output_type": "stream"
    }
   ],
   "source": [
    "ss = StandardScaler()\n",
    "feature_matrix = ss.fit_transform(feature_matrix)\n",
    "\n",
    "pca = PCA(n_components=500)\n",
    "demo_feature_matrix = pca.fit_transform(feature_matrix)\n",
    "\n",
    "print(\"Dimension after reduction: {}\".format(demo_feature_matrix.shape))"
   ],
   "metadata": {
    "collapsed": false,
    "pycharm": {
     "name": "#%%\n",
     "is_executing": false
    }
   }
  },
  {
   "cell_type": "markdown",
   "source": [
    "### Each sample has 500 scaled features after Scaling and PCA.\n",
    "\n",
    "## 2. Encapsulate all pre-processing steps above in one function"
   ],
   "metadata": {
    "collapsed": false,
    "pycharm": {
     "name": "#%% md\n"
    }
   }
  },
  {
   "cell_type": "code",
   "execution_count": 10,
   "outputs": [],
   "source": [
    "def preprocess(data_to_process):\n",
    "    feature_matrix = []\n",
    "    \n",
    "    for image in data_to_process:\n",
    "        rgb_image = np.zeros((32,32,3), dtype=np.uint8)\n",
    "        for k in range(3):  \n",
    "            for i in range(32):  \n",
    "                for j in range(32):  \n",
    "                    rgb_image[i][j][k] = image[k*1024+i*32+j]\n",
    "        \n",
    "        grey_image = rgb2gray(rgb_image)\n",
    "        hog_features = hog(grey_image, visualize=False, block_norm='L2-Hys', pixels_per_cell=(4, 4))\n",
    "        color_features = rgb_image.flatten()\n",
    "        flatten_features = np.hstack((hog_features, color_features))\n",
    "        \n",
    "        feature_matrix.append(flatten_features)\n",
    "    \n",
    "    ss = StandardScaler()\n",
    "    feature_matrix = ss.fit_transform(feature_matrix)\n",
    "    pca = PCA(n_components=500)\n",
    "    feature_matrix = pca.fit_transform(feature_matrix)\n",
    "    \n",
    "    return feature_matrix"
   ],
   "metadata": {
    "collapsed": false,
    "pycharm": {
     "name": "#%%\n",
     "is_executing": false
    }
   }
  },
  {
   "cell_type": "markdown",
   "source": [
    "## 3. Train bagging classifiers using kernel SVM classifiers as base clf and perform cross validation\n",
    "### The original dataset is split into 6 batches with stratification. Hence we will conduct cross validation using these 6 batches by concatenating 5 of them as training set and the rest for testing.\n",
    "### We choose not to train one SVM from these 50000 samples. The reason is the computational expensiveness of kernel SVM when it comes to too many samples. Training complexity of SVM is O(n_features x n_samples^3), making training classifiers with more than a score of thousands of samples impractical.\n",
    "### Instead, we opt to use bagging by training 50 classifiers from training set each time, each fitted with 1000 images."
   ],
   "metadata": {
    "collapsed": false,
    "pycharm": {
     "name": "#%% md\n"
    }
   }
  },
  {
   "cell_type": "markdown",
   "source": [
    "### Pre-process the whole dataset"
   ],
   "metadata": {
    "collapsed": false
   }
  },
  {
   "cell_type": "code",
   "execution_count": 11,
   "outputs": [
    {
     "name": "stdout",
     "text": [
      "Pre-processing took 207.32279801368713 s\n(60000, 500)\n"
     ],
     "output_type": "stream"
    }
   ],
   "source": [
    "t = time.time()\n",
    "\n",
    "whole_df = np.zeros((10000, 3072))\n",
    "first =True\n",
    "for n in range(1, 7):\n",
    "    # Generate training set and testing set\n",
    "    if first:\n",
    "        whole_df = unpickle(directory_name+\"data_batch_\"+str(n))[b'data']\n",
    "        first = False\n",
    "        continue\n",
    "    whole_df = np.vstack((whole_df, unpickle(directory_name+\"data_batch_\"+str(n))[b'data']))\n",
    "\n",
    "whole_processed_df = preprocess(whole_df)\n",
    "\n",
    "print(\"Pre-processing took {} s\".format(time.time()-t))    \n",
    "print(whole_processed_df.shape)"
   ],
   "metadata": {
    "collapsed": false,
    "pycharm": {
     "name": "#%%\n",
     "is_executing": false
    }
   }
  },
  {
   "cell_type": "markdown",
   "source": [
    "### Get all labels"
   ],
   "metadata": {
    "collapsed": false,
    "pycharm": {
     "name": "#%% md\n"
    }
   }
  },
  {
   "cell_type": "code",
   "execution_count": 12,
   "outputs": [
    {
     "name": "stdout",
     "text": [
      "60000\n"
     ],
     "output_type": "stream"
    }
   ],
   "source": [
    "all_labels = np.zeros(10000)\n",
    "first =True\n",
    "for n in range(1, 7):\n",
    "    # Generate training set and testing set\n",
    "    if first:\n",
    "        all_labels = unpickle(directory_name+\"data_batch_\"+str(n))[b'labels']\n",
    "        first = False\n",
    "        continue\n",
    "    all_labels += unpickle(directory_name+\"data_batch_\"+str(n))[b'labels']\n",
    "print(len(all_labels))"
   ],
   "metadata": {
    "collapsed": false,
    "pycharm": {
     "name": "#%%\n",
     "is_executing": false
    }
   }
  },
  {
   "cell_type": "markdown",
   "source": [
    "### Train 6 bagging classifiers, each with 50 base SVMs\n",
    "### Note: We are using parallelism here, running #(processor) trainings simultaneously!"
   ],
   "metadata": {
    "collapsed": false,
    "pycharm": {
     "name": "#%% md\n"
    }
   }
  },
  {
   "cell_type": "code",
   "execution_count": 15,
   "outputs": [
    {
     "name": "stdout",
     "text": [
      "Training Bagging Classifier 0 took 15.292366027832031 s\n",
      "Classifier 0 accuracy: 0.5119, testing took 57.76063418388367 s.\n{}th Confusion Matrix: \n[[542  64  45  34  21  11   8  12 227  41]\n [ 34 594   6  32  25   2  30  11  75 165]\n [124  30 276  89 220  89 102  37  37  28]\n [ 37  22  58 334 136 188 111  49  11  70]\n [ 50  21  49  62 557  34 112  49  24  41]\n [ 11  19  58 183  89 427  65  51  10  24]\n [ 23  23  39  93 120  54 635  14   5  24]\n [ 32  21  27  72 182  82  32 455  24  74]\n [111 100  11  31  13  21  10   5 645  78]\n [ 39  97   8  26  30  21  14  16  76 654]]\n",
      "Training Bagging Classifier 1 took 14.917391538619995 s\n",
      "Classifier 1 accuracy: 0.5076, testing took 57.7905912399292 s.\n{}th Confusion Matrix: \n[[512  59  46  33  27  14   9  10 220  54]\n [ 38 626   6  36  22   9  39  11  85 135]\n [119  18 319  79 168  91 116  28  28  44]\n [ 51  30  74 313 100 205 104  34  20  64]\n [ 59  18  77  70 523  41 118  39  34  31]\n [ 22  18  79 175  81 448  81  54   5  25]\n [ 31  24  52  70 105  40 639  14   7  26]\n [ 26  20  46  94 184  90  33 450  10  73]\n [ 92  85  25  27  13  19   7   1 655  63]\n [ 31 119   8  41  32  24  19  25  95 591]]\n",
      "Training Bagging Classifier 2 took 14.783746719360352 s\n",
      "Classifier 2 accuracy: 0.5225, testing took 57.81053400039673 s.\n{}th Confusion Matrix: \n[[519  72  55  21  28  10  12  16 212  49]\n [ 36 661   7  17  15   4  33  12 101 156]\n [106  27 325  89 179  52  98  33  28  28]\n [ 49  26  55 354 104 195 122  42   8  42]\n [ 45  17  62  62 528  32 134  56  18  36]\n [ 24  17  97 198  84 437  78  59   7  28]\n [ 22  29  44  74  73  34 660  10   4  28]\n [ 27  15  58  80 165  86  44 457  19  64]\n [ 90  87  12  32  22  22   4   5 628  59]\n [ 37 119   9  35  36  12  29  15  81 656]]\n",
      "Training Bagging Classifier 3 took 14.869542598724365 s\n",
      "Classifier 3 accuracy: 0.5044, testing took 58.27424359321594 s.\n{}th Confusion Matrix: \n[[511  74  49  21  31   9  19  12 211  66]\n [ 40 567   9  41  18   6  40   6  97 139]\n [129  28 306  95 198  77 119  23  24  42]\n [ 53  21  58 341  86 172 112  55  16  62]\n [ 60  20  68  57 524  27 114  63  32  39]\n [ 24  12  89 162 101 432  92  62  15  32]\n [ 27  17  58  68 116  33 637  14   4  30]\n [ 20  17  51  82 152  72  48 434  15  90]\n [102  96  12  26  11  24   5   2 668  78]\n [ 41 114  12  27  30  16  18  16  85 624]]\n",
      "Training Bagging Classifier 4 took 15.007118463516235 s\n",
      "Classifier 4 accuracy: 0.5138, testing took 58.33910131454468 s.\n{}th Confusion Matrix: \n[[526  58  52  18  31  10  10  15 236  58]\n [ 36 631   6  29  23   9  32  11  97 140]\n [105  23 312  67 182  70 112  27  33  21]\n [ 53  30  64 338  99 204 108  35  14  71]\n [ 45  23  67  60 524  34 122  56  25  41]\n [ 24  11  93 205  82 426  82  66  12  24]\n [ 22  16  49  85  99  43 624  11   4  27]\n [ 20  24  49  66 150  85  39 460  19  65]\n [ 78 108  13  24  11  19   9   8 666  67]\n [ 35 104  22  45  37  18  19  19  92 631]]\n",
      "Training Bagging Classifier 5 took 14.91439151763916 s\n",
      "Classifier 5 accuracy: 0.5138, testing took 57.94613838195801 s.\n{}th Confusion Matrix: \n[[561  49  54  21  29   5  15  14 205  47]\n [ 34 631   6  35  20   7  41   6  99 121]\n [108  22 309  81 202  85 121  22  24  26]\n [ 51  29  64 292 113 199 125  45  10  72]\n [ 38  25  63  50 538  40 136  53  21  36]\n [ 27   9  83 160  87 449  75  67  17  26]\n [ 24  21  55  62  96  42 648  15   3  34]\n [ 31  26  49  72 154  97  33 424  21  93]\n [ 75  95  15  21  19  25   5   4 660  81]\n [ 40 109   9  33  36  17  17  22  91 626]]\n"
     ],
     "output_type": "stream"
    }
   ],
   "source": [
    "classifiers = []\n",
    "accuracies = []\n",
    "precisions = []\n",
    "recalls = []\n",
    "confusion_matrices = []\n",
    "times = []\n",
    "\n",
    "for n in range(6):\n",
    "    # Generate training set and testing set, as well as corresponding labels\n",
    "    testing_df = whole_processed_df[10000*n:10000*(n+1)]\n",
    "    training_df = np.vstack((whole_processed_df[:10000*n], whole_processed_df[10000*(n+1):]))\n",
    "\n",
    "    testing_labels = all_labels[10000*n:10000*(n+1)]\n",
    "    training_labels = all_labels[:10000*n] + all_labels[10000*(n+1):]\n",
    "\n",
    "    # Fit the bagging classifier\n",
    "    t1 = time.time()\n",
    "    bagging_classifier = BaggingClassifier(\n",
    "        SVC(decision_function_shape='ovr',kernel='rbf',gamma='scale'),  # reduce complexity by using ovr\n",
    "        max_samples=1.0/50, n_estimators=50, n_jobs=-1)  \n",
    "    bagging_classifier.fit(training_df, training_labels)\n",
    "    times.append(time.time()-t1)\n",
    "    print(\"Training Bagging Classifier {} took {} s\".format(n, time.time()-t1))  # MULTI-PROCESSING USING ALL AVAILABLE CALLS \n",
    "    classifiers.append(bagging_classifier)\n",
    "\n",
    "    # Test the classifier on the testing set\n",
    "    t2 = time.time()\n",
    "    pred_labels = bagging_classifier.predict(testing_df)\n",
    "    accuracy = accuracy_score(testing_labels, pred_labels)\n",
    "    precision = precision_score(testing_labels, pred_labels, average=None)\n",
    "    recall = recall_score(testing_labels, pred_labels, average=None)\n",
    "    print('Classifier {} accuracy: {}, testing took {} s.'.format(n, accuracy, time.time()-t2))\n",
    "    accuracies.append(accuracy)\n",
    "    precisions.append(precision)\n",
    "    recalls.append(recall)\n",
    "\n",
    "    confusion_m = confusion_matrix(testing_labels, pred_labels)\n",
    "    print(\"{}th Confusion Matrix: \".format(n))\n",
    "    print(confusion_m)\n",
    "    confusion_matrices.append(confusion_m)"
   ],
   "metadata": {
    "collapsed": false,
    "pycharm": {
     "name": "#%%\n",
     "is_executing": false
    }
   }
  },
  {
   "cell_type": "markdown",
   "source": [
    "## 4. Evaluate trained Bagging classifiers\n",
    "\n",
    "### For starters, the average accuracy is:"
   ],
   "metadata": {
    "collapsed": false,
    "pycharm": {
     "name": "#%% md\n"
    }
   }
  },
  {
   "cell_type": "code",
   "execution_count": 8,
   "outputs": [
    {
     "name": "stdout",
     "text": [
      "Avg accuracy achieved by cross-validation: 51.11666666666667%.\n"
     ],
     "output_type": "stream"
    }
   ],
   "source": [
    "average_accuracy = sum(accuracies)/len(accuracies)\n",
    "print(\"Avg accuracy achieved by cross-validation: {}%.\".format(100*average_accuracy))"
   ],
   "metadata": {
    "collapsed": false,
    "pycharm": {
     "name": "#%%\n",
     "is_executing": false
    }
   }
  },
  {
   "cell_type": "markdown",
   "source": [
    "### Average precision and recall for each class:"
   ],
   "metadata": {
    "collapsed": false,
    "pycharm": {
     "name": "#%% md\n"
    }
   }
  },
  {
   "cell_type": "code",
   "execution_count": 16,
   "outputs": [
    {
     "name": "stdout",
     "text": [
      "Avg precision achieved by cross-validation: [54. 61. 44. 36. 42. 47. 54. 65. 57. 54.]%.\nAvg recall achieved by cross-validation: [53. 62. 31. 33. 53. 44. 64. 45. 65. 63.]%.\n"
     ],
     "output_type": "stream"
    }
   ],
   "source": [
    "average_precision = np.zeros(10)\n",
    "for i in range(10):\n",
    "    average_precision[i] = round(sum([p[i] for p in precisions])/len(precisions), 2)\n",
    "print(\"Avg precision achieved by cross-validation for each class: {}%.\".format(100*average_precision))\n",
    "\n",
    "average_recall = np.zeros(10)\n",
    "for i in range(10):\n",
    "    average_recall[i] = round(sum([r[i] for r in recalls])/len(recalls), 2)\n",
    "print(\"Avg recall achieved by cross-validation for each class: {}%.\".format(100*average_recall))"
   ],
   "metadata": {
    "collapsed": false,
    "pycharm": {
     "name": "#%%\n",
     "is_executing": false
    }
   }
  },
  {
   "cell_type": "markdown",
   "source": [
    "### The average time complexity:"
   ],
   "metadata": {
    "collapsed": false,
    "pycharm": {
     "name": "#%% md\n"
    }
   }
  },
  {
   "cell_type": "code",
   "execution_count": 20,
   "outputs": [
    {
     "name": "stdout",
     "text": [
      "Avg time elapsed for training one bagging classifier: 14.96 s.\n"
     ],
     "output_type": "stream"
    }
   ],
   "source": [
    "average_time = sum(times)/len(times)\n",
    "print(\"Avg time elapsed for training one bagging classifier: {} s.\".format(round(average_time, 2)))"
   ],
   "metadata": {
    "collapsed": false,
    "pycharm": {
     "name": "#%%\n",
     "is_executing": false
    }
   }
  },
  {
   "cell_type": "markdown",
   "source": [
    "### Aggregated Confusion Matrix:"
   ],
   "metadata": {
    "collapsed": false,
    "pycharm": {
     "name": "#%% md\n"
    }
   }
  },
  {
   "cell_type": "code",
   "execution_count": 22,
   "outputs": [
    {
     "name": "stdout",
     "text": [
      "[[528.5  62.7  50.2  24.7  27.8   9.8  12.2  13.2 218.5  52.5]\n [ 36.3 618.3   6.7  31.7  20.5   6.2  35.8   9.5  92.3 142.7]\n [115.2  24.7 307.8  83.3 191.5  77.3 111.3  28.3  29.   31.5]\n [ 49.   26.3  62.2 328.7 106.3 193.8 113.7  43.3  13.2  63.5]\n [ 49.5  20.7  64.3  60.2 532.3  34.7 122.7  52.7  25.7  37.3]\n [ 22.   14.3  83.2 180.5  87.3 436.5  78.8  59.8  11.   26.5]\n [ 24.8  21.7  49.5  75.3 101.5  41.  640.5  13.    4.5  28.2]\n [ 26.   20.5  46.7  77.7 164.5  85.3  38.2 446.7  18.   76.5]\n [ 91.3  95.2  14.7  26.8  14.8  21.7   6.7   4.2 653.7  71. ]\n [ 37.2 110.3  11.3  34.5  33.5  18.   19.3  18.8  86.7 630.3]]\n"
     ],
     "output_type": "stream"
    }
   ],
   "source": [
    "agg_confusion_matrix = np.zeros((10,10))\n",
    "for i in range(10):\n",
    "    for j in range(10):\n",
    "        agg_confusion_matrix[i][j] = round(sum([m[i][j] for m in confusion_matrices])/len(confusion_matrices), 1)\n",
    "print(agg_confusion_matrix)"
   ],
   "metadata": {
    "collapsed": false,
    "pycharm": {
     "name": "#%%\n",
     "is_executing": false
    }
   }
  },
  {
   "cell_type": "code",
   "execution_count": null,
   "outputs": [],
   "source": [
    "\n"
   ],
   "metadata": {
    "collapsed": false,
    "pycharm": {
     "name": "#%%\n"
    }
   }
  }
 ],
 "metadata": {
  "language_info": {
   "codemirror_mode": {
    "name": "ipython",
    "version": 2
   },
   "file_extension": ".py",
   "mimetype": "text/x-python",
   "name": "python",
   "nbconvert_exporter": "python",
   "pygments_lexer": "ipython2",
   "version": "2.7.6"
  },
  "kernelspec": {
   "name": "python3",
   "language": "python",
   "display_name": "Python 3"
  },
  "pycharm": {
   "stem_cell": {
    "cell_type": "raw",
    "source": [],
    "metadata": {
     "collapsed": false
    }
   }
  }
 },
 "nbformat": 4,
 "nbformat_minor": 0
}